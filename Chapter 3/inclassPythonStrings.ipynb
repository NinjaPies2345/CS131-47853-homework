{
 "cells": [
  {
   "cell_type": "code",
   "execution_count": 2,
   "id": "530c28db",
   "metadata": {
    "scrolled": false
   },
   "outputs": [],
   "source": [
    "name = \"AlbertFrancisco\""
   ]
  },
  {
   "cell_type": "code",
   "execution_count": 3,
   "id": "d5af8733",
   "metadata": {},
   "outputs": [
    {
     "name": "stdout",
     "output_type": "stream",
     "text": [
      "Your name is neither Albert or Frank\n"
     ]
    }
   ],
   "source": [
    "if name == \"Frank\":\n",
    "    print(\"Your name is not Frank\")\n",
    "elif name == \"Albert\":\n",
    "    print(\"Your name is Albert\")\n",
    "else:\n",
    "    print(\"Your name is neither Albert or Frank\")"
   ]
  },
  {
   "cell_type": "code",
   "execution_count": null,
   "id": "6848efb1",
   "metadata": {},
   "outputs": [
    {
     "name": "stdout",
     "output_type": "stream",
     "text": [
      "You have a long name\n"
     ]
    }
   ],
   "source": [
    "if len(name) < 4:\n",
    "    print(\"You have a short name\")\n",
    "elif len(name) >= 4 and len(name) <8:\n",
    "    print(\"You have a medium name\")\n",
    "else:\n",
    "    print(\"You have a long name\")"
   ]
  },
  {
   "cell_type": "code",
   "execution_count": 19,
   "id": "ac134d05",
   "metadata": {},
   "outputs": [
    {
     "name": "stdout",
     "output_type": "stream",
     "text": [
      "Your name has a ho in it\n"
     ]
    }
   ],
   "source": [
    "if name.find(\"ZZ\"):\n",
    "    print(\"Your name has a ho in it\")\n",
    "else:\n",
    "    print(\"Your name doesn't have a ho in it\")"
   ]
  },
  {
   "cell_type": "code",
   "execution_count": null,
   "id": "362a0ec7",
   "metadata": {},
   "outputs": [],
   "source": []
  }
 ],
 "metadata": {
  "kernelspec": {
   "display_name": "base",
   "language": "python",
   "name": "python3"
  },
  "language_info": {
   "codemirror_mode": {
    "name": "ipython",
    "version": 3
   },
   "file_extension": ".py",
   "mimetype": "text/x-python",
   "name": "python",
   "nbconvert_exporter": "python",
   "pygments_lexer": "ipython3",
   "version": "3.9.7"
  },
  "vscode": {
   "interpreter": {
    "hash": "ad2bdc8ecc057115af97d19610ffacc2b4e99fae6737bb82f5d7fb13d2f2c186"
   }
  }
 },
 "nbformat": 4,
 "nbformat_minor": 5
}
